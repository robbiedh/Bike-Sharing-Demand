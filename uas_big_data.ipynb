{
  "nbformat": 4,
  "nbformat_minor": 0,
  "metadata": {
    "colab": {
      "name": "uas_big_data.ipynb",
      "provenance": [],
      "collapsed_sections": [],
      "toc_visible": true,
      "authorship_tag": "ABX9TyOAYyvwPNsVKahpsOzB6+mJ"
    },
    "kernelspec": {
      "name": "python3",
      "display_name": "Python 3"
    },
    "language_info": {
      "name": "python"
    }
  },
  "cells": [
    {
      "cell_type": "markdown",
      "metadata": {
        "id": "pdQdFdBsI78k"
      },
      "source": [
        "# Insight"
      ]
    },
    {
      "cell_type": "markdown",
      "metadata": {
        "id": "c7qVqswFI9Qi"
      },
      "source": [
        ""
      ]
    },
    {
      "cell_type": "markdown",
      "metadata": {
        "id": "25hjMwlLCqzP"
      },
      "source": [
        "# Init Spark "
      ]
    },
    {
      "cell_type": "code",
      "metadata": {
        "colab": {
          "base_uri": "https://localhost:8080/"
        },
        "id": "p0TwnnV0C2H3",
        "outputId": "354f8aba-4c16-4b73-bd50-69111d1ee2be"
      },
      "source": [
        "from google.colab import drive\n",
        "drive.mount('/content/drive')"
      ],
      "execution_count": null,
      "outputs": [
        {
          "output_type": "stream",
          "text": [
            "Mounted at /content/drive\n"
          ],
          "name": "stdout"
        }
      ]
    },
    {
      "cell_type": "code",
      "metadata": {
        "id": "Je2KZ_3iC5b-"
      },
      "source": [
        "# innstall java\n",
        "!apt-get install openjdk-8-jdk-headless -qq > /dev/null\n",
        "\n",
        "# install spark (change the version number if needed)\n",
        "# !wget -q https://archive.apache.org/dist/spark/spark-3.0.0/spark-3.0.0-bin-hadoop3.2.tgz\n",
        "\n",
        "# unzip the spark file to the current folder\n",
        "!tar xf /content/drive/MyDrive/GoogleColab/spark-3.0.0-bin-hadoop3.2.tgz\n",
        "\n",
        "# set your spark folder to your system path environment. \n",
        "import os\n",
        "os.environ[\"JAVA_HOME\"] = \"/usr/lib/jvm/java-8-openjdk-amd64\"\n",
        "os.environ[\"SPARK_HOME\"] = \"/content/spark-3.0.0-bin-hadoop3.2\"\n",
        "\n",
        "\n",
        "# install findspark using pip\n",
        "!pip install -q findspark"
      ],
      "execution_count": null,
      "outputs": []
    },
    {
      "cell_type": "code",
      "metadata": {
        "colab": {
          "base_uri": "https://localhost:8080/"
        },
        "id": "D2b7r9b-C7z9",
        "outputId": "e20805d8-968e-4992-f167-1597f9812a43"
      },
      "source": [
        "!pip install pyspark"
      ],
      "execution_count": null,
      "outputs": [
        {
          "output_type": "stream",
          "text": [
            "Collecting pyspark\n",
            "\u001b[?25l  Downloading https://files.pythonhosted.org/packages/89/db/e18cfd78e408de957821ec5ca56de1250645b05f8523d169803d8df35a64/pyspark-3.1.2.tar.gz (212.4MB)\n",
            "\u001b[K     |████████████████████████████████| 212.4MB 60kB/s \n",
            "\u001b[?25hCollecting py4j==0.10.9\n",
            "\u001b[?25l  Downloading https://files.pythonhosted.org/packages/9e/b6/6a4fb90cd235dc8e265a6a2067f2a2c99f0d91787f06aca4bcf7c23f3f80/py4j-0.10.9-py2.py3-none-any.whl (198kB)\n",
            "\u001b[K     |████████████████████████████████| 204kB 19.4MB/s \n",
            "\u001b[?25hBuilding wheels for collected packages: pyspark\n",
            "  Building wheel for pyspark (setup.py) ... \u001b[?25l\u001b[?25hdone\n",
            "  Created wheel for pyspark: filename=pyspark-3.1.2-py2.py3-none-any.whl size=212880768 sha256=d5afcc8672fffd7ba0620a4b1b82a8f9bf445ea82b3131b06db492a8a8a6cfb5\n",
            "  Stored in directory: /root/.cache/pip/wheels/40/1b/2c/30f43be2627857ab80062bef1527c0128f7b4070b6b2d02139\n",
            "Successfully built pyspark\n",
            "Installing collected packages: py4j, pyspark\n",
            "Successfully installed py4j-0.10.9 pyspark-3.1.2\n"
          ],
          "name": "stdout"
        }
      ]
    },
    {
      "cell_type": "code",
      "metadata": {
        "id": "Co_A2PqEC9v_"
      },
      "source": [
        "import findspark\n",
        "findspark.init()"
      ],
      "execution_count": null,
      "outputs": []
    },
    {
      "cell_type": "code",
      "metadata": {
        "colab": {
          "base_uri": "https://localhost:8080/",
          "height": 35
        },
        "id": "ubJrX3UhDAwe",
        "outputId": "bdbeaebd-fdca-418c-e920-ff79ff53d263"
      },
      "source": [
        "findspark.find()"
      ],
      "execution_count": null,
      "outputs": [
        {
          "output_type": "execute_result",
          "data": {
            "application/vnd.google.colaboratory.intrinsic+json": {
              "type": "string"
            },
            "text/plain": [
              "'/content/spark-3.0.0-bin-hadoop3.2'"
            ]
          },
          "metadata": {
            "tags": []
          },
          "execution_count": 5
        }
      ]
    },
    {
      "cell_type": "code",
      "metadata": {
        "colab": {
          "base_uri": "https://localhost:8080/"
        },
        "id": "ZSCk2fH0DCVm",
        "outputId": "3c077b37-a83d-4e91-b7ac-e3a08c0b72a1"
      },
      "source": [
        "pip freeze"
      ],
      "execution_count": null,
      "outputs": [
        {
          "output_type": "stream",
          "text": [
            "absl-py==0.12.0\n",
            "alabaster==0.7.12\n",
            "albumentations==0.1.12\n",
            "altair==4.1.0\n",
            "appdirs==1.4.4\n",
            "argon2-cffi==20.1.0\n",
            "arviz==0.11.2\n",
            "astor==0.8.1\n",
            "astropy==4.2.1\n",
            "astunparse==1.6.3\n",
            "async-generator==1.10\n",
            "atari-py==0.2.9\n",
            "atomicwrites==1.4.0\n",
            "attrs==21.2.0\n",
            "audioread==2.1.9\n",
            "autograd==1.3\n",
            "Babel==2.9.1\n",
            "backcall==0.2.0\n",
            "beautifulsoup4==4.6.3\n",
            "bleach==3.3.0\n",
            "blis==0.4.1\n",
            "bokeh==2.3.2\n",
            "Bottleneck==1.3.2\n",
            "branca==0.4.2\n",
            "bs4==0.0.1\n",
            "CacheControl==0.12.6\n",
            "cached-property==1.5.2\n",
            "cachetools==4.2.2\n",
            "catalogue==1.0.0\n",
            "certifi==2021.5.30\n",
            "cffi==1.14.5\n",
            "cftime==1.5.0\n",
            "chardet==3.0.4\n",
            "click==7.1.2\n",
            "cloudpickle==1.3.0\n",
            "cmake==3.12.0\n",
            "cmdstanpy==0.9.5\n",
            "colorcet==2.0.6\n",
            "colorlover==0.3.0\n",
            "community==1.0.0b1\n",
            "contextlib2==0.5.5\n",
            "convertdate==2.3.2\n",
            "coverage==3.7.1\n",
            "coveralls==0.5\n",
            "crcmod==1.7\n",
            "cufflinks==0.17.3\n",
            "cvxopt==1.2.6\n",
            "cvxpy==1.0.31\n",
            "cycler==0.10.0\n",
            "cymem==2.0.5\n",
            "Cython==0.29.23\n",
            "daft==0.0.4\n",
            "dask==2.12.0\n",
            "datascience==0.10.6\n",
            "debugpy==1.0.0\n",
            "decorator==4.4.2\n",
            "defusedxml==0.7.1\n",
            "descartes==1.1.0\n",
            "dill==0.3.4\n",
            "distributed==1.25.3\n",
            "dlib==19.18.0\n",
            "dm-tree==0.1.6\n",
            "docopt==0.6.2\n",
            "docutils==0.17.1\n",
            "dopamine-rl==1.0.5\n",
            "earthengine-api==0.1.269\n",
            "easydict==1.9\n",
            "ecos==2.0.7.post1\n",
            "editdistance==0.5.3\n",
            "en-core-web-sm==2.2.5\n",
            "entrypoints==0.3\n",
            "ephem==4.0.0.2\n",
            "et-xmlfile==1.1.0\n",
            "fa2==0.3.5\n",
            "fastai==1.0.61\n",
            "fastdtw==0.3.4\n",
            "fastprogress==1.0.0\n",
            "fastrlock==0.6\n",
            "fbprophet==0.7.1\n",
            "feather-format==0.4.1\n",
            "filelock==3.0.12\n",
            "findspark==1.4.2\n",
            "firebase-admin==4.4.0\n",
            "fix-yahoo-finance==0.0.22\n",
            "Flask==1.1.4\n",
            "flatbuffers==1.12\n",
            "folium==0.8.3\n",
            "future==0.16.0\n",
            "gast==0.4.0\n",
            "GDAL==2.2.2\n",
            "gdown==3.6.4\n",
            "gensim==3.6.0\n",
            "geographiclib==1.50\n",
            "geopy==1.17.0\n",
            "gin-config==0.4.0\n",
            "glob2==0.7\n",
            "google==2.0.3\n",
            "google-api-core==1.26.3\n",
            "google-api-python-client==1.12.8\n",
            "google-auth==1.31.0\n",
            "google-auth-httplib2==0.0.4\n",
            "google-auth-oauthlib==0.4.4\n",
            "google-cloud-bigquery==1.21.0\n",
            "google-cloud-bigquery-storage==1.1.0\n",
            "google-cloud-core==1.0.3\n",
            "google-cloud-datastore==1.8.0\n",
            "google-cloud-firestore==1.7.0\n",
            "google-cloud-language==1.2.0\n",
            "google-cloud-storage==1.18.1\n",
            "google-cloud-translate==1.5.0\n",
            "google-colab==1.0.0\n",
            "google-pasta==0.2.0\n",
            "google-resumable-media==0.4.1\n",
            "googleapis-common-protos==1.53.0\n",
            "googledrivedownloader==0.4\n",
            "graphviz==0.10.1\n",
            "greenlet==1.1.0\n",
            "grpcio==1.34.1\n",
            "gspread==3.0.1\n",
            "gspread-dataframe==3.0.8\n",
            "gym==0.17.3\n",
            "h5py==3.1.0\n",
            "HeapDict==1.0.1\n",
            "hijri-converter==2.1.2\n",
            "holidays==0.10.5.2\n",
            "holoviews==1.14.4\n",
            "html5lib==1.0.1\n",
            "httpimport==0.5.18\n",
            "httplib2==0.17.4\n",
            "httplib2shim==0.0.3\n",
            "humanize==0.5.1\n",
            "hyperopt==0.1.2\n",
            "ideep4py==2.0.0.post3\n",
            "idna==2.10\n",
            "imageio==2.4.1\n",
            "imagesize==1.2.0\n",
            "imbalanced-learn==0.4.3\n",
            "imblearn==0.0\n",
            "imgaug==0.2.9\n",
            "importlib-metadata==4.5.0\n",
            "importlib-resources==5.1.4\n",
            "imutils==0.5.4\n",
            "inflect==2.1.0\n",
            "iniconfig==1.1.1\n",
            "install==1.3.4\n",
            "intel-openmp==2021.2.0\n",
            "intervaltree==2.1.0\n",
            "ipykernel==4.10.1\n",
            "ipython==5.5.0\n",
            "ipython-genutils==0.2.0\n",
            "ipython-sql==0.3.9\n",
            "ipywidgets==7.6.3\n",
            "itsdangerous==1.1.0\n",
            "jax==0.2.13\n",
            "jaxlib==0.1.66+cuda110\n",
            "jdcal==1.4.1\n",
            "jedi==0.18.0\n",
            "jieba==0.42.1\n",
            "Jinja2==2.11.3\n",
            "joblib==1.0.1\n",
            "jpeg4py==0.1.4\n",
            "jsonschema==2.6.0\n",
            "jupyter==1.0.0\n",
            "jupyter-client==5.3.5\n",
            "jupyter-console==5.2.0\n",
            "jupyter-core==4.7.1\n",
            "jupyterlab-pygments==0.1.2\n",
            "jupyterlab-widgets==1.0.0\n",
            "kaggle==1.5.12\n",
            "kapre==0.3.5\n",
            "Keras==2.4.3\n",
            "keras-nightly==2.5.0.dev2021032900\n",
            "Keras-Preprocessing==1.1.2\n",
            "keras-vis==0.4.1\n",
            "kiwisolver==1.3.1\n",
            "korean-lunar-calendar==0.2.1\n",
            "librosa==0.8.1\n",
            "lightgbm==2.2.3\n",
            "llvmlite==0.34.0\n",
            "lmdb==0.99\n",
            "LunarCalendar==0.0.9\n",
            "lxml==4.2.6\n",
            "Markdown==3.3.4\n",
            "MarkupSafe==2.0.1\n",
            "matplotlib==3.2.2\n",
            "matplotlib-inline==0.1.2\n",
            "matplotlib-venn==0.11.6\n",
            "missingno==0.4.2\n",
            "mistune==0.8.4\n",
            "mizani==0.6.0\n",
            "mkl==2019.0\n",
            "mlxtend==0.14.0\n",
            "more-itertools==8.8.0\n",
            "moviepy==0.2.3.5\n",
            "mpmath==1.2.1\n",
            "msgpack==1.0.2\n",
            "multiprocess==0.70.12.2\n",
            "multitasking==0.0.9\n",
            "murmurhash==1.0.5\n",
            "music21==5.5.0\n",
            "natsort==5.5.0\n",
            "nbclient==0.5.3\n",
            "nbconvert==5.6.1\n",
            "nbformat==5.1.3\n",
            "nest-asyncio==1.5.1\n",
            "netCDF4==1.5.6\n",
            "networkx==2.5.1\n",
            "nibabel==3.0.2\n",
            "nltk==3.2.5\n",
            "notebook==5.3.1\n",
            "numba==0.51.2\n",
            "numexpr==2.7.3\n",
            "numpy==1.19.5\n",
            "nvidia-ml-py3==7.352.0\n",
            "oauth2client==4.1.3\n",
            "oauthlib==3.1.1\n",
            "okgrade==0.4.3\n",
            "opencv-contrib-python==4.1.2.30\n",
            "opencv-python==4.1.2.30\n",
            "openpyxl==2.5.9\n",
            "opt-einsum==3.3.0\n",
            "osqp==0.6.2.post0\n",
            "packaging==20.9\n",
            "palettable==3.3.0\n",
            "pandas==1.1.5\n",
            "pandas-datareader==0.9.0\n",
            "pandas-gbq==0.13.3\n",
            "pandas-profiling==1.4.1\n",
            "pandocfilters==1.4.3\n",
            "panel==0.11.3\n",
            "param==1.10.1\n",
            "parso==0.8.2\n",
            "pathlib==1.0.1\n",
            "patsy==0.5.1\n",
            "pexpect==4.8.0\n",
            "pickleshare==0.7.5\n",
            "Pillow==7.1.2\n",
            "pip-tools==4.5.1\n",
            "plac==1.1.3\n",
            "plotly==4.4.1\n",
            "plotnine==0.6.0\n",
            "pluggy==0.7.1\n",
            "pooch==1.4.0\n",
            "portpicker==1.3.9\n",
            "prefetch-generator==1.0.1\n",
            "preshed==3.0.5\n",
            "prettytable==2.1.0\n",
            "progressbar2==3.38.0\n",
            "prometheus-client==0.11.0\n",
            "promise==2.3\n",
            "prompt-toolkit==1.0.18\n",
            "protobuf==3.12.4\n",
            "psutil==5.4.8\n",
            "psycopg2==2.7.6.1\n",
            "ptyprocess==0.7.0\n",
            "py==1.10.0\n",
            "py4j==0.10.9\n",
            "pyarrow==3.0.0\n",
            "pyasn1==0.4.8\n",
            "pyasn1-modules==0.2.8\n",
            "pycocotools==2.0.2\n",
            "pycparser==2.20\n",
            "pyct==0.4.8\n",
            "pydata-google-auth==1.2.0\n",
            "pydot==1.3.0\n",
            "pydot-ng==2.0.0\n",
            "pydotplus==2.0.2\n",
            "PyDrive==1.3.1\n",
            "pyemd==0.5.1\n",
            "pyerfa==2.0.0\n",
            "pyglet==1.5.0\n",
            "Pygments==2.6.1\n",
            "pygobject==3.26.1\n",
            "pymc3==3.11.2\n",
            "PyMeeus==0.5.11\n",
            "pymongo==3.11.4\n",
            "pymystem3==0.2.0\n",
            "PyOpenGL==3.1.5\n",
            "pyparsing==2.4.7\n",
            "pyrsistent==0.17.3\n",
            "pysndfile==1.3.8\n",
            "PySocks==1.7.1\n",
            "pyspark==3.1.2\n",
            "pystan==2.19.1.1\n",
            "pytest==3.6.4\n",
            "python-apt==0.0.0\n",
            "python-chess==0.23.11\n",
            "python-dateutil==2.8.1\n",
            "python-louvain==0.15\n",
            "python-slugify==5.0.2\n",
            "python-utils==2.5.6\n",
            "pytz==2018.9\n",
            "pyviz-comms==2.0.2\n",
            "PyWavelets==1.1.1\n",
            "PyYAML==3.13\n",
            "pyzmq==22.1.0\n",
            "qdldl==0.1.5.post0\n",
            "qtconsole==5.1.0\n",
            "QtPy==1.9.0\n",
            "regex==2019.12.20\n",
            "requests==2.23.0\n",
            "requests-oauthlib==1.3.0\n",
            "resampy==0.2.2\n",
            "retrying==1.3.3\n",
            "rpy2==3.4.5\n",
            "rsa==4.7.2\n",
            "scikit-image==0.16.2\n",
            "scikit-learn==0.22.2.post1\n",
            "scipy==1.4.1\n",
            "screen-resolution-extra==0.0.0\n",
            "scs==2.1.4\n",
            "seaborn==0.11.1\n",
            "semver==2.13.0\n",
            "Send2Trash==1.5.0\n",
            "setuptools-git==1.2\n",
            "Shapely==1.7.1\n",
            "simplegeneric==0.8.1\n",
            "six==1.15.0\n",
            "sklearn==0.0\n",
            "sklearn-pandas==1.8.0\n",
            "smart-open==5.1.0\n",
            "snowballstemmer==2.1.0\n",
            "sortedcontainers==2.4.0\n",
            "SoundFile==0.10.3.post1\n",
            "spacy==2.2.4\n",
            "Sphinx==1.8.5\n",
            "sphinxcontrib-serializinghtml==1.1.5\n",
            "sphinxcontrib-websupport==1.2.4\n",
            "SQLAlchemy==1.4.18\n",
            "sqlparse==0.4.1\n",
            "srsly==1.0.5\n",
            "statsmodels==0.10.2\n",
            "sympy==1.7.1\n",
            "tables==3.4.4\n",
            "tabulate==0.8.9\n",
            "tblib==1.7.0\n",
            "tensorboard==2.5.0\n",
            "tensorboard-data-server==0.6.1\n",
            "tensorboard-plugin-wit==1.8.0\n",
            "tensorflow==2.5.0\n",
            "tensorflow-datasets==4.0.1\n",
            "tensorflow-estimator==2.5.0\n",
            "tensorflow-gcs-config==2.5.0\n",
            "tensorflow-hub==0.12.0\n",
            "tensorflow-metadata==1.0.0\n",
            "tensorflow-probability==0.12.1\n",
            "termcolor==1.1.0\n",
            "terminado==0.10.1\n",
            "testpath==0.5.0\n",
            "text-unidecode==1.3\n",
            "textblob==0.15.3\n",
            "Theano-PyMC==1.1.2\n",
            "thinc==7.4.0\n",
            "tifffile==2021.6.14\n",
            "toml==0.10.2\n",
            "toolz==0.11.1\n",
            "torch==1.9.0+cu102\n",
            "torchsummary==1.5.1\n",
            "torchtext==0.10.0\n",
            "torchvision==0.10.0+cu102\n",
            "tornado==5.1.1\n",
            "tqdm==4.41.1\n",
            "traitlets==5.0.5\n",
            "tweepy==3.10.0\n",
            "typeguard==2.7.1\n",
            "typing-extensions==3.7.4.3\n",
            "tzlocal==1.5.1\n",
            "uritemplate==3.0.1\n",
            "urllib3==1.24.3\n",
            "vega-datasets==0.9.0\n",
            "wasabi==0.8.2\n",
            "wcwidth==0.2.5\n",
            "webencodings==0.5.1\n",
            "Werkzeug==1.0.1\n",
            "widgetsnbextension==3.5.1\n",
            "wordcloud==1.5.0\n",
            "wrapt==1.12.1\n",
            "xarray==0.18.2\n",
            "xgboost==0.90\n",
            "xkit==0.0.0\n",
            "xlrd==1.1.0\n",
            "xlwt==1.3.0\n",
            "yellowbrick==0.9.1\n",
            "zict==2.0.0\n",
            "zipp==3.4.1\n"
          ],
          "name": "stdout"
        }
      ]
    },
    {
      "cell_type": "code",
      "metadata": {
        "id": "Lv9dZyr7DE3u"
      },
      "source": [
        "from pyspark.sql import SparkSession\n",
        "\n",
        "spark = SparkSession.builder\\\n",
        "        .master(\"local\")\\\n",
        "        .appName(\"Colab\")\\\n",
        "        .config('spark.ui.port', '4050')\\\n",
        "        .getOrCreate()"
      ],
      "execution_count": null,
      "outputs": []
    },
    {
      "cell_type": "code",
      "metadata": {
        "colab": {
          "base_uri": "https://localhost:8080/",
          "height": 216
        },
        "id": "NYJuCgz_DGuX",
        "outputId": "b263e13f-335f-4119-8cd5-5911f2442359"
      },
      "source": [
        "spark"
      ],
      "execution_count": null,
      "outputs": [
        {
          "output_type": "execute_result",
          "data": {
            "text/html": [
              "\n",
              "            <div>\n",
              "                <p><b>SparkSession - in-memory</b></p>\n",
              "                \n",
              "        <div>\n",
              "            <p><b>SparkContext</b></p>\n",
              "\n",
              "            <p><a href=\"http://1af30fda694c:4050\">Spark UI</a></p>\n",
              "\n",
              "            <dl>\n",
              "              <dt>Version</dt>\n",
              "                <dd><code>v3.0.0</code></dd>\n",
              "              <dt>Master</dt>\n",
              "                <dd><code>local</code></dd>\n",
              "              <dt>AppName</dt>\n",
              "                <dd><code>Colab</code></dd>\n",
              "            </dl>\n",
              "        </div>\n",
              "        \n",
              "            </div>\n",
              "        "
            ],
            "text/plain": [
              "<pyspark.sql.session.SparkSession at 0x7f408b69d0d0>"
            ]
          },
          "metadata": {
            "tags": []
          },
          "execution_count": 8
        }
      ]
    },
    {
      "cell_type": "code",
      "metadata": {
        "id": "YVRzDI5FDP6m"
      },
      "source": [
        "import numpy as np\n",
        "from math import sqrt\n",
        "from random import randrange\n",
        "# import lib python data analysis\n",
        "import pandas as pd\n",
        "from random import seed\n",
        "import matplotlib.pyplot as plt\n",
        "import networkx as nx\n",
        "from csv import reader\n",
        "from math import sqrt\n",
        "\n",
        "from  __future__ import division"
      ],
      "execution_count": null,
      "outputs": []
    },
    {
      "cell_type": "markdown",
      "metadata": {
        "id": "wCxUucx3dcEA"
      },
      "source": [
        "# Uji Coba keitga"
      ]
    },
    {
      "cell_type": "code",
      "metadata": {
        "id": "KpzUitKTdeYj"
      },
      "source": [
        "df = spark.read.csv(\"/content/drive/MyDrive/GoogleColab/jam.csv\", header=\"true\", inferSchema=\"true\")"
      ],
      "execution_count": null,
      "outputs": []
    },
    {
      "cell_type": "code",
      "metadata": {
        "colab": {
          "base_uri": "https://localhost:8080/"
        },
        "id": "QPgL03X-doVc",
        "outputId": "0cd34d78-57ff-4d8d-9a8a-b8fb90891949"
      },
      "source": [
        "df.cache()"
      ],
      "execution_count": null,
      "outputs": [
        {
          "output_type": "execute_result",
          "data": {
            "text/plain": [
              "DataFrame[instant: int, dteday: string, season: int, yr: int, mnth: int, hr: int, holiday: int, weekday: int, workingday: int, weathersit: int, temp: double, atemp: double, hum: double, windspeed: double, casual: int, registered: int, cnt: int]"
            ]
          },
          "metadata": {
            "tags": []
          },
          "execution_count": 50
        }
      ]
    },
    {
      "cell_type": "markdown",
      "metadata": {
        "id": "-4BaZWdqLkV3"
      },
      "source": [
        " memanggil show() pada DataFrame untuk melihat contoh data."
      ]
    },
    {
      "cell_type": "code",
      "metadata": {
        "colab": {
          "base_uri": "https://localhost:8080/"
        },
        "id": "UFleWnPedqvD",
        "outputId": "01b3ca37-e9b5-4937-ed35-898fc3070fcc"
      },
      "source": [
        "df.show()"
      ],
      "execution_count": null,
      "outputs": [
        {
          "output_type": "stream",
          "text": [
            "+-------+----------+------+---+----+---+-------+-------+----------+----------+----+------+----+---------+------+----------+---+\n",
            "|instant|    dteday|season| yr|mnth| hr|holiday|weekday|workingday|weathersit|temp| atemp| hum|windspeed|casual|registered|cnt|\n",
            "+-------+----------+------+---+----+---+-------+-------+----------+----------+----+------+----+---------+------+----------+---+\n",
            "|      1|2011-01-01|     1|  0|   1|  0|      0|      6|         0|         1|0.24|0.2879|0.81|      0.0|     3|        13| 16|\n",
            "|      2|2011-01-01|     1|  0|   1|  1|      0|      6|         0|         1|0.22|0.2727| 0.8|      0.0|     8|        32| 40|\n",
            "|      3|2011-01-01|     1|  0|   1|  2|      0|      6|         0|         1|0.22|0.2727| 0.8|      0.0|     5|        27| 32|\n",
            "|      4|2011-01-01|     1|  0|   1|  3|      0|      6|         0|         1|0.24|0.2879|0.75|      0.0|     3|        10| 13|\n",
            "|      5|2011-01-01|     1|  0|   1|  4|      0|      6|         0|         1|0.24|0.2879|0.75|      0.0|     0|         1|  1|\n",
            "|      6|2011-01-01|     1|  0|   1|  5|      0|      6|         0|         2|0.24|0.2576|0.75|   0.0896|     0|         1|  1|\n",
            "|      7|2011-01-01|     1|  0|   1|  6|      0|      6|         0|         1|0.22|0.2727| 0.8|      0.0|     2|         0|  2|\n",
            "|      8|2011-01-01|     1|  0|   1|  7|      0|      6|         0|         1| 0.2|0.2576|0.86|      0.0|     1|         2|  3|\n",
            "|      9|2011-01-01|     1|  0|   1|  8|      0|      6|         0|         1|0.24|0.2879|0.75|      0.0|     1|         7|  8|\n",
            "|     10|2011-01-01|     1|  0|   1|  9|      0|      6|         0|         1|0.32|0.3485|0.76|      0.0|     8|         6| 14|\n",
            "|     11|2011-01-01|     1|  0|   1| 10|      0|      6|         0|         1|0.38|0.3939|0.76|   0.2537|    12|        24| 36|\n",
            "|     12|2011-01-01|     1|  0|   1| 11|      0|      6|         0|         1|0.36|0.3333|0.81|   0.2836|    26|        30| 56|\n",
            "|     13|2011-01-01|     1|  0|   1| 12|      0|      6|         0|         1|0.42|0.4242|0.77|   0.2836|    29|        55| 84|\n",
            "|     14|2011-01-01|     1|  0|   1| 13|      0|      6|         0|         2|0.46|0.4545|0.72|   0.2985|    47|        47| 94|\n",
            "|     15|2011-01-01|     1|  0|   1| 14|      0|      6|         0|         2|0.46|0.4545|0.72|   0.2836|    35|        71|106|\n",
            "|     16|2011-01-01|     1|  0|   1| 15|      0|      6|         0|         2|0.44|0.4394|0.77|   0.2985|    40|        70|110|\n",
            "|     17|2011-01-01|     1|  0|   1| 16|      0|      6|         0|         2|0.42|0.4242|0.82|   0.2985|    41|        52| 93|\n",
            "|     18|2011-01-01|     1|  0|   1| 17|      0|      6|         0|         2|0.44|0.4394|0.82|   0.2836|    15|        52| 67|\n",
            "|     19|2011-01-01|     1|  0|   1| 18|      0|      6|         0|         3|0.42|0.4242|0.88|   0.2537|     9|        26| 35|\n",
            "|     20|2011-01-01|     1|  0|   1| 19|      0|      6|         0|         3|0.42|0.4242|0.88|   0.2537|     6|        31| 37|\n",
            "+-------+----------+------+---+----+---+-------+-------+----------+----------+----+------+----+---------+------+----------+---+\n",
            "only showing top 20 rows\n",
            "\n"
          ],
          "name": "stdout"
        }
      ]
    },
    {
      "cell_type": "markdown",
      "metadata": {
        "id": "wEZV6XOhLt_G"
      },
      "source": [
        "Dataset ini berisikan   nilai seperti hari kerja sudah diindeks, dan semua kolom kecuali tanggal (dteday) adalah numerik."
      ]
    },
    {
      "cell_type": "code",
      "metadata": {
        "colab": {
          "base_uri": "https://localhost:8080/"
        },
        "id": "H6R4bWZYdvne",
        "outputId": "94c432c2-fc9d-40a8-d4aa-e4ee380cf131"
      },
      "source": [
        "print(\"The dataset has %d rows.\" % df.count())"
      ],
      "execution_count": null,
      "outputs": [
        {
          "output_type": "stream",
          "text": [
            "The dataset has 17379 rows.\n"
          ],
          "name": "stdout"
        }
      ]
    },
    {
      "cell_type": "markdown",
      "metadata": {
        "id": "QkldafDVL6QQ"
      },
      "source": [
        ""
      ]
    },
    {
      "cell_type": "markdown",
      "metadata": {
        "id": "MHxLkgMBL60h"
      },
      "source": [
        "# Preprocess data"
      ]
    },
    {
      "cell_type": "markdown",
      "metadata": {
        "id": "mFtgem01MHnQ"
      },
      "source": [
        "karena tujuan ingin memprediksi jumlah sewa sepeda (kolom cnt).  sebagai \"label\" target .\n",
        "\n",
        "Beberapa kolom berisi informasi duplikat. Misalnya, kolom cnt yang ingin kita prediksi sama dengan jumlah kolom kasual + registerd. lalu menghapus kolom kasual dan registerd dari data , dteday juga dilkukan penghapusan, dikarenakan sudah di wakili fature lainya , termasuk instant juga di hapsu\n"
      ]
    },
    {
      "cell_type": "code",
      "metadata": {
        "colab": {
          "base_uri": "https://localhost:8080/"
        },
        "id": "cBh9T4sudwul",
        "outputId": "16d98891-b2c7-48d1-a72f-9385832e1ae4"
      },
      "source": [
        "df = df.drop(\"instant\").drop(\"dteday\").drop(\"casual\").drop(\"registered\")\n",
        "df.show()"
      ],
      "execution_count": null,
      "outputs": [
        {
          "output_type": "stream",
          "text": [
            "+------+---+----+---+-------+-------+----------+----------+----+------+----+---------+---+\n",
            "|season| yr|mnth| hr|holiday|weekday|workingday|weathersit|temp| atemp| hum|windspeed|cnt|\n",
            "+------+---+----+---+-------+-------+----------+----------+----+------+----+---------+---+\n",
            "|     1|  0|   1|  0|      0|      6|         0|         1|0.24|0.2879|0.81|      0.0| 16|\n",
            "|     1|  0|   1|  1|      0|      6|         0|         1|0.22|0.2727| 0.8|      0.0| 40|\n",
            "|     1|  0|   1|  2|      0|      6|         0|         1|0.22|0.2727| 0.8|      0.0| 32|\n",
            "|     1|  0|   1|  3|      0|      6|         0|         1|0.24|0.2879|0.75|      0.0| 13|\n",
            "|     1|  0|   1|  4|      0|      6|         0|         1|0.24|0.2879|0.75|      0.0|  1|\n",
            "|     1|  0|   1|  5|      0|      6|         0|         2|0.24|0.2576|0.75|   0.0896|  1|\n",
            "|     1|  0|   1|  6|      0|      6|         0|         1|0.22|0.2727| 0.8|      0.0|  2|\n",
            "|     1|  0|   1|  7|      0|      6|         0|         1| 0.2|0.2576|0.86|      0.0|  3|\n",
            "|     1|  0|   1|  8|      0|      6|         0|         1|0.24|0.2879|0.75|      0.0|  8|\n",
            "|     1|  0|   1|  9|      0|      6|         0|         1|0.32|0.3485|0.76|      0.0| 14|\n",
            "|     1|  0|   1| 10|      0|      6|         0|         1|0.38|0.3939|0.76|   0.2537| 36|\n",
            "|     1|  0|   1| 11|      0|      6|         0|         1|0.36|0.3333|0.81|   0.2836| 56|\n",
            "|     1|  0|   1| 12|      0|      6|         0|         1|0.42|0.4242|0.77|   0.2836| 84|\n",
            "|     1|  0|   1| 13|      0|      6|         0|         2|0.46|0.4545|0.72|   0.2985| 94|\n",
            "|     1|  0|   1| 14|      0|      6|         0|         2|0.46|0.4545|0.72|   0.2836|106|\n",
            "|     1|  0|   1| 15|      0|      6|         0|         2|0.44|0.4394|0.77|   0.2985|110|\n",
            "|     1|  0|   1| 16|      0|      6|         0|         2|0.42|0.4242|0.82|   0.2985| 93|\n",
            "|     1|  0|   1| 17|      0|      6|         0|         2|0.44|0.4394|0.82|   0.2836| 67|\n",
            "|     1|  0|   1| 18|      0|      6|         0|         3|0.42|0.4242|0.88|   0.2537| 35|\n",
            "|     1|  0|   1| 19|      0|      6|         0|         3|0.42|0.4242|0.88|   0.2537| 37|\n",
            "+------+---+----+---+-------+-------+----------+----------+----+------+----+---------+---+\n",
            "only showing top 20 rows\n",
            "\n"
          ],
          "name": "stdout"
        }
      ]
    },
    {
      "cell_type": "markdown",
      "metadata": {
        "id": "3cOa26NtNm6Y"
      },
      "source": [
        "melihat skema dataset untuk melihat jenis setiap kolom."
      ]
    },
    {
      "cell_type": "code",
      "metadata": {
        "colab": {
          "base_uri": "https://localhost:8080/"
        },
        "id": "aqD346_Nd0Ni",
        "outputId": "c10369f7-dd23-4452-c9c1-b658cc51bee2"
      },
      "source": [
        "df.printSchema()"
      ],
      "execution_count": null,
      "outputs": [
        {
          "output_type": "stream",
          "text": [
            "root\n",
            " |-- season: integer (nullable = true)\n",
            " |-- yr: integer (nullable = true)\n",
            " |-- mnth: integer (nullable = true)\n",
            " |-- hr: integer (nullable = true)\n",
            " |-- holiday: integer (nullable = true)\n",
            " |-- weekday: integer (nullable = true)\n",
            " |-- workingday: integer (nullable = true)\n",
            " |-- weathersit: integer (nullable = true)\n",
            " |-- temp: double (nullable = true)\n",
            " |-- atemp: double (nullable = true)\n",
            " |-- hum: double (nullable = true)\n",
            " |-- windspeed: double (nullable = true)\n",
            " |-- cnt: integer (nullable = true)\n",
            "\n"
          ],
          "name": "stdout"
        }
      ]
    },
    {
      "cell_type": "markdown",
      "metadata": {
        "id": "X-7Hip1eOCF-"
      },
      "source": [
        "# Split data into training and test sets"
      ]
    },
    {
      "cell_type": "markdown",
      "metadata": {
        "id": "nrIjT0CUOIhZ"
      },
      "source": [
        "Langkah persiapan data terakhir membagi dataset  menjadi set train dan test yang terpisah."
      ]
    },
    {
      "cell_type": "code",
      "metadata": {
        "colab": {
          "base_uri": "https://localhost:8080/"
        },
        "id": "z6nWY3OpeAFd",
        "outputId": "b58b19ec-6a0c-47ca-884c-a0decf5ed673"
      },
      "source": [
        "train, test = df.randomSplit([0.7, 0.3], seed = 0)\n",
        "print(\"Train : %d Test : %d \" % (train.count(), test.count()))"
      ],
      "execution_count": null,
      "outputs": [
        {
          "output_type": "stream",
          "text": [
            "Train : 12081 Test : 5298 \n"
          ],
          "name": "stdout"
        }
      ]
    },
    {
      "cell_type": "code",
      "metadata": {
        "id": "oGquLrjQaV9V"
      },
      "source": [
        ""
      ],
      "execution_count": null,
      "outputs": []
    },
    {
      "cell_type": "code",
      "metadata": {
        "colab": {
          "base_uri": "https://localhost:8080/"
        },
        "id": "HQK_xMmeeCfX",
        "outputId": "67d8cf44-60ab-42ef-cbbc-eaf6cd98eb71"
      },
      "source": [
        "train.select(\"hr\", \"cnt\").show()"
      ],
      "execution_count": null,
      "outputs": [
        {
          "output_type": "stream",
          "text": [
            "+---+---+\n",
            "| hr|cnt|\n",
            "+---+---+\n",
            "|  0| 25|\n",
            "|  0| 33|\n",
            "|  0| 39|\n",
            "|  0|  7|\n",
            "|  0|  5|\n",
            "|  0|  5|\n",
            "|  0| 12|\n",
            "|  0|  5|\n",
            "|  0|  9|\n",
            "|  0|  6|\n",
            "|  0|  7|\n",
            "|  0| 17|\n",
            "|  0|  3|\n",
            "|  0|  7|\n",
            "|  0| 11|\n",
            "|  0| 13|\n",
            "|  0| 14|\n",
            "|  0| 21|\n",
            "|  0| 13|\n",
            "|  0| 28|\n",
            "+---+---+\n",
            "only showing top 20 rows\n",
            "\n"
          ],
          "name": "stdout"
        }
      ]
    },
    {
      "cell_type": "code",
      "metadata": {
        "colab": {
          "base_uri": "https://localhost:8080/",
          "height": 476
        },
        "id": "tfzZ_6XwOf_W",
        "outputId": "c3f50c1b-e089-4161-c8e2-386a9b7b16fd"
      },
      "source": [
        "display(train.select(\"hr\", \"cnt\").show())"
      ],
      "execution_count": null,
      "outputs": [
        {
          "output_type": "stream",
          "text": [
            "+---+---+\n",
            "| hr|cnt|\n",
            "+---+---+\n",
            "|  0| 25|\n",
            "|  0| 33|\n",
            "|  0| 39|\n",
            "|  0|  7|\n",
            "|  0|  5|\n",
            "|  0|  5|\n",
            "|  0| 12|\n",
            "|  0|  5|\n",
            "|  0|  9|\n",
            "|  0|  6|\n",
            "|  0|  7|\n",
            "|  0| 17|\n",
            "|  0|  3|\n",
            "|  0|  7|\n",
            "|  0| 11|\n",
            "|  0| 13|\n",
            "|  0| 14|\n",
            "|  0| 21|\n",
            "|  0| 13|\n",
            "|  0| 28|\n",
            "+---+---+\n",
            "only showing top 20 rows\n",
            "\n"
          ],
          "name": "stdout"
        },
        {
          "output_type": "display_data",
          "data": {
            "text/plain": [
              "None"
            ]
          },
          "metadata": {
            "tags": []
          }
        }
      ]
    },
    {
      "cell_type": "markdown",
      "metadata": {
        "id": "SHMN_GcVQCZ2"
      },
      "source": [
        "# Train a Machine Learning Pipeline"
      ]
    },
    {
      "cell_type": "markdown",
      "metadata": {
        "id": "KN1WLnFWQDfz"
      },
      "source": [
        " model ML untuk memprediksi rental sepeda bersama di masa depan. Sebagian besar algoritme ML mengharapkan untuk memprediksi satu kolom \"label\" (cnt) menggunakan satu kolom \"fitur\" dari vektor fitur, vektor fitur berisikna: cuaca, hari dalam seminggu, dll., dan labelnya harus sesuai dengan apa yang ingin  prediksi (cnt)."
      ]
    },
    {
      "cell_type": "code",
      "metadata": {
        "id": "ErpbmKPYeDkQ"
      },
      "source": [
        "from pyspark.ml.feature import VectorAssembler, VectorIndexer\n",
        "featuresCols = df.columns\n",
        "featuresCols.remove('cnt')\n",
        "vectorAssembler = VectorAssembler(inputCols=featuresCols, outputCol=\"rawFeatures\")\n",
        "vectorIndexer = VectorIndexer(inputCol=\"rawFeatures\", outputCol=\"features\", maxCategories=4)"
      ],
      "execution_count": null,
      "outputs": []
    },
    {
      "cell_type": "markdown",
      "metadata": {
        "id": "FuaD9z6CTTaM"
      },
      "source": [
        " mendefinisikan tahap train model dari Pipeline. GBTRegressor mengambil vektor fitur dan label sebagai input dan learning memprediksi label contoh baru."
      ]
    },
    {
      "cell_type": "code",
      "metadata": {
        "id": "jbxLFJlreGma"
      },
      "source": [
        "from pyspark.ml.regression import GBTRegressor\n",
        "gbt = GBTRegressor(labelCol=\"cnt\")"
      ],
      "execution_count": null,
      "outputs": []
    },
    {
      "cell_type": "markdown",
      "metadata": {
        "id": "FQAd9iDhT51G"
      },
      "source": [
        "tahap train model dalam tahap CrossValidator. CrossValidator akan memanggil algoritma GBT dengan pengaturan hyperparameter yang berbeda. Ini akan melatih beberapa model dan memilih yang terbaik,"
      ]
    },
    {
      "cell_type": "code",
      "metadata": {
        "id": "fjrrpEubeRyp"
      },
      "source": [
        "from pyspark.ml.tuning import CrossValidator, ParamGridBuilder\n",
        "from pyspark.ml.evaluation import RegressionEvaluator\n",
        " \n",
        "\n",
        "paramGrid = ParamGridBuilder()\\\n",
        "  .addGrid(gbt.maxDepth, [2, 5])\\\n",
        "  .addGrid(gbt.maxIter, [10, 100])\\\n",
        "  .build()\n",
        " \n",
        "\n",
        "evaluator = RegressionEvaluator(metricName=\"rmse\", labelCol=gbt.getLabelCol(), predictionCol=gbt.getPredictionCol())\n",
        " \n",
        "\n",
        "cv = CrossValidator(estimator=gbt, evaluator=evaluator, estimatorParamMaps=paramGrid)"
      ],
      "execution_count": null,
      "outputs": []
    },
    {
      "cell_type": "markdown",
      "metadata": {
        "id": "qZ-fitkRULa9"
      },
      "source": [
        "pemrosesan fitur dan tahap pelatihan model menjadi dalam satu Pipeline."
      ]
    },
    {
      "cell_type": "code",
      "metadata": {
        "id": "u9GnUhBPeVN0"
      },
      "source": [
        "from pyspark.ml import Pipeline\n",
        "pipeline = Pipeline(stages=[vectorAssembler, vectorIndexer, cv])"
      ],
      "execution_count": null,
      "outputs": []
    },
    {
      "cell_type": "markdown",
      "metadata": {
        "id": "RyKRGg0RUVhq"
      },
      "source": [
        ""
      ]
    },
    {
      "cell_type": "markdown",
      "metadata": {
        "id": "aenj4_GZUWC5"
      },
      "source": [
        "# Train the Pipeline!"
      ]
    },
    {
      "cell_type": "markdown",
      "metadata": {
        "id": "OqL9I_yDUeDL"
      },
      "source": [
        "Sekarang setelah menyiapkan work flow,sekarang dapat melatih Pipeline \n"
      ]
    },
    {
      "cell_type": "code",
      "metadata": {
        "id": "vix_4ciVeYGM"
      },
      "source": [
        "pipelineModel = pipeline.fit(train)"
      ],
      "execution_count": null,
      "outputs": []
    },
    {
      "cell_type": "markdown",
      "metadata": {
        "id": "4LqJFrvwWh9q"
      },
      "source": [
        "# Make predictions, and evaluate results"
      ]
    },
    {
      "cell_type": "markdown",
      "metadata": {
        "id": "hXat4AqhXE_1"
      },
      "source": [
        "Langkah terakhir  prediksi pada data baru. dengan menggunakan set data test, \n",
        "\n",
        " Metrik evaluasi komputasi penting untuk memahami kualitas prediksi, serta untuk membandingkan model dan parameter "
      ]
    },
    {
      "cell_type": "code",
      "metadata": {
        "id": "naPlF2kaeZpj"
      },
      "source": [
        "predictions = pipelineModel.transform(test)"
      ],
      "execution_count": null,
      "outputs": []
    },
    {
      "cell_type": "markdown",
      "metadata": {
        "id": "6Pe_bnTlXm69"
      },
      "source": [
        "cnt: jumlah  persewaan sepeda\n",
        "prediksi: perkiraan jumlah persewaan speda\n",
        "kolom fitur: kolom fitur bawaan data"
      ]
    },
    {
      "cell_type": "code",
      "metadata": {
        "colab": {
          "base_uri": "https://localhost:8080/"
        },
        "id": "V9T7x5d9ecRR",
        "outputId": "9c80dcdc-b49c-496e-c759-5e6b064f6bf4"
      },
      "source": [
        "predictions.select(\"cnt\", \"prediction\", *featuresCols).show()"
      ],
      "execution_count": null,
      "outputs": [
        {
          "output_type": "stream",
          "text": [
            "+---+-------------------+------+---+----+---+-------+-------+----------+----------+----+------+----+---------+\n",
            "|cnt|         prediction|season| yr|mnth| hr|holiday|weekday|workingday|weathersit|temp| atemp| hum|windspeed|\n",
            "+---+-------------------+------+---+----+---+-------+-------+----------+----------+----+------+----+---------+\n",
            "| 22|  33.27998948252831|     1|  0|   1|  0|      0|      0|         0|         1|0.04|0.0758|0.57|   0.1045|\n",
            "| 17|  87.99671083960651|     1|  0|   1|  0|      0|      0|         0|         2|0.46|0.4545|0.88|   0.2985|\n",
            "|  7|  12.97403125819035|     1|  0|   1|  0|      0|      1|         1|         2|0.24|0.2273|0.65|   0.2239|\n",
            "| 17|  13.36017944216584|     1|  0|   1|  0|      0|      5|         1|         2| 0.2| 0.197|0.64|    0.194|\n",
            "|  9|  5.740083235863914|     1|  0|   1|  0|      0|      5|         1|         2| 0.2|0.2121|0.75|   0.1343|\n",
            "| 17|  29.98331081376719|     1|  0|   1|  0|      1|      1|         0|         2| 0.2| 0.197|0.47|   0.2239|\n",
            "| 13| 28.821412592470278|     1|  0|   1|  1|      0|      0|         0|         1|0.04|0.0758|0.57|   0.1045|\n",
            "| 12|  14.76215670150266|     1|  0|   1|  1|      0|      0|         0|         1| 0.1|0.0606|0.42|   0.4627|\n",
            "| 17| 3.8426501604528376|     1|  0|   1|  1|      0|      0|         0|         2|0.44|0.4394|0.94|   0.2537|\n",
            "|  2| -6.650397701490163|     1|  0|   1|  1|      0|      1|         1|         1| 0.2|0.1667|0.44|   0.4179|\n",
            "|  7| 0.7975074292190741|     1|  0|   1|  1|      0|      1|         1|         1|0.22|0.2121|0.64|   0.2537|\n",
            "|  2|  3.613205821730607|     1|  0|   1|  1|      0|      2|         1|         1|0.16|0.1818|0.59|   0.1045|\n",
            "|  6| -5.835742946276824|     1|  0|   1|  1|      0|      3|         1|         2|0.16|0.1818|0.86|   0.1045|\n",
            "|  7| -5.113368494793686|     1|  0|   1|  1|      0|      5|         1|         2| 0.2| 0.197|0.69|   0.2239|\n",
            "|  3|  -6.70495641314912|     1|  0|   1|  1|      0|      5|         1|         2| 0.2|0.2121|0.75|   0.1343|\n",
            "| 40|  28.38147995434423|     1|  0|   1|  1|      0|      6|         0|         1|0.22|0.2727| 0.8|      0.0|\n",
            "| 11|  38.93888746097533|     1|  0|   1|  2|      0|      0|         0|         1|0.16|0.2273| 0.8|      0.0|\n",
            "| 16| 41.464911255754984|     1|  0|   1|  2|      0|      0|         0|         1|0.26|0.2879|0.56|   0.0896|\n",
            "|  9| 48.618679643632326|     1|  0|   1|  2|      0|      0|         0|         2|0.42|0.4242| 1.0|   0.2836|\n",
            "|  1|-10.448780175111073|     1|  0|   1|  2|      0|      2|         1|         1|0.14|0.1515|0.63|   0.1343|\n",
            "+---+-------------------+------+---+----+---+-------+-------+----------+----------+----+------+----+---------+\n",
            "only showing top 20 rows\n",
            "\n"
          ],
          "name": "stdout"
        }
      ]
    },
    {
      "cell_type": "markdown",
      "metadata": {
        "id": "0v5QrRqUX8lr"
      },
      "source": [
        "\n",
        " Di bawah ini, menghitung metrik evaluasi yang memberi tahu bahwa seberapa baik model di membuat prediksi pada semua data yang ada. Dalam hal ini (untuk RMSE), lebih rendah lebih baik. "
      ]
    },
    {
      "cell_type": "code",
      "metadata": {
        "colab": {
          "base_uri": "https://localhost:8080/"
        },
        "id": "BzuegOipefYa",
        "outputId": "12cce5eb-2234-40bf-9fd2-d7fa813f06f1"
      },
      "source": [
        "rmse = evaluator.evaluate(predictions)\n",
        "print(\"RMSE on our test set: %g\" % rmse)"
      ],
      "execution_count": null,
      "outputs": [
        {
          "output_type": "stream",
          "text": [
            "RMSE on our test set: 46.1543\n"
          ],
          "name": "stdout"
        }
      ]
    },
    {
      "cell_type": "code",
      "metadata": {
        "colab": {
          "base_uri": "https://localhost:8080/"
        },
        "id": "-vMVdbwFeg0J",
        "outputId": "ba886c66-2d6f-4cc0-a6ed-1ebf2402b63f"
      },
      "source": [
        "predictions.select(\"hr\", \"prediction\").show()"
      ],
      "execution_count": null,
      "outputs": [
        {
          "output_type": "stream",
          "text": [
            "+---+-------------------+\n",
            "| hr|         prediction|\n",
            "+---+-------------------+\n",
            "|  0|  33.27998948252831|\n",
            "|  0|  87.99671083960651|\n",
            "|  0|  12.97403125819035|\n",
            "|  0|  13.36017944216584|\n",
            "|  0|  5.740083235863914|\n",
            "|  0|  29.98331081376719|\n",
            "|  1| 28.821412592470278|\n",
            "|  1|  14.76215670150266|\n",
            "|  1| 3.8426501604528376|\n",
            "|  1| -6.650397701490163|\n",
            "|  1| 0.7975074292190741|\n",
            "|  1|  3.613205821730607|\n",
            "|  1| -5.835742946276824|\n",
            "|  1| -5.113368494793686|\n",
            "|  1|  -6.70495641314912|\n",
            "|  1|  28.38147995434423|\n",
            "|  2|  38.93888746097533|\n",
            "|  2| 41.464911255754984|\n",
            "|  2| 48.618679643632326|\n",
            "|  2|-10.448780175111073|\n",
            "+---+-------------------+\n",
            "only showing top 20 rows\n",
            "\n"
          ],
          "name": "stdout"
        }
      ]
    },
    {
      "cell_type": "code",
      "metadata": {
        "colab": {
          "base_uri": "https://localhost:8080/"
        },
        "id": "g1s9IPo-ejs0",
        "outputId": "15235fc5-d26e-43be-96ec-f137bb5795ee"
      },
      "source": [
        "import pyspark.sql.functions as F\n",
        "predictions_with_residuals = predictions.withColumn(\"residual\", (F.col(\"cnt\") - F.col(\"prediction\")))\n",
        "predictions_with_residuals.agg({'residual': 'mean'}).show()"
      ],
      "execution_count": null,
      "outputs": [
        {
          "output_type": "stream",
          "text": [
            "+------------------+\n",
            "|     avg(residual)|\n",
            "+------------------+\n",
            "|0.7555834574011429|\n",
            "+------------------+\n",
            "\n"
          ],
          "name": "stdout"
        }
      ]
    },
    {
      "cell_type": "code",
      "metadata": {
        "colab": {
          "base_uri": "https://localhost:8080/"
        },
        "id": "ZUs37D1MelsJ",
        "outputId": "96e35dbf-ebb4-4e59-c0cf-c1db203f64b2"
      },
      "source": [
        "predictions_with_residuals.select(\"hr\", \"residual\").show()"
      ],
      "execution_count": null,
      "outputs": [
        {
          "output_type": "stream",
          "text": [
            "+---+-------------------+\n",
            "| hr|           residual|\n",
            "+---+-------------------+\n",
            "|  0|-11.279989482528308|\n",
            "|  0| -70.99671083960651|\n",
            "|  0| -5.974031258190349|\n",
            "|  0| 3.6398205578341596|\n",
            "|  0| 3.2599167641360864|\n",
            "|  0| -12.98331081376719|\n",
            "|  1|-15.821412592470278|\n",
            "|  1|-2.7621567015026596|\n",
            "|  1| 13.157349839547162|\n",
            "|  1|  8.650397701490164|\n",
            "|  1|  6.202492570780926|\n",
            "|  1| -1.613205821730607|\n",
            "|  1| 11.835742946276824|\n",
            "|  1| 12.113368494793686|\n",
            "|  1|   9.70495641314912|\n",
            "|  1| 11.618520045655771|\n",
            "|  2| -27.93888746097533|\n",
            "|  2|-25.464911255754984|\n",
            "|  2|-39.618679643632326|\n",
            "|  2| 11.448780175111073|\n",
            "+---+-------------------+\n",
            "only showing top 20 rows\n",
            "\n"
          ],
          "name": "stdout"
        }
      ]
    }
  ]
}